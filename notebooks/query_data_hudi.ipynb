{
 "cells": [
  {
   "cell_type": "code",
   "execution_count": 2,
   "id": "9ed5ded9-82bf-469e-af3a-98ed80cb5126",
   "metadata": {},
   "outputs": [
    {
     "name": "stdout",
     "output_type": "stream",
     "text": [
      "SPARK_HOME: /opt/spark\n",
      "Existe /opt/bitnami/spark: False\n"
     ]
    }
   ],
   "source": [
    "import os\n",
    "\n",
    "# Verificar la variable de entorno SPARK_HOME\n",
    "print(\"SPARK_HOME:\", os.environ.get(\"SPARK_HOME\"))\n",
    "\n",
    "# Verificar la ruta de Spark dentro del contenedor\n",
    "print(\"Existe /opt/bitnami/spark:\", os.path.exists(\"/opt/bitnami/spark\"))"
   ]
  },
  {
   "cell_type": "code",
   "execution_count": 3,
   "id": "29673a34-e38d-4dfb-8d6e-835afa496d84",
   "metadata": {},
   "outputs": [
    {
     "name": "stdout",
     "output_type": "stream",
     "text": [
      "Existe la carpeta de Py4J: False\n"
     ]
    }
   ],
   "source": [
    "import os\n",
    "\n",
    "# Revisar si existe la carpeta donde debería estar Py4J\n",
    "py4j_path = \"/opt/bitnami/spark/python/lib/\"\n",
    "print(\"Existe la carpeta de Py4J:\", os.path.exists(py4j_path))"
   ]
  },
  {
   "cell_type": "code",
   "execution_count": 4,
   "id": "9b1c7a4b-a105-40e6-ae80-019f22b617b4",
   "metadata": {},
   "outputs": [],
   "source": [
    "# Listar archivos en esa carpeta\n",
    "if os.path.exists(py4j_path):\n",
    "    print(\"Archivos en /opt/bitnami/spark/python/lib/:\", os.listdir(py4j_path))"
   ]
  },
  {
   "cell_type": "code",
   "execution_count": null,
   "id": "b5b59d95-5258-4112-a724-e1c8141f9d34",
   "metadata": {},
   "outputs": [],
   "source": [
    "import os\n",
    "\n",
    "# Configurar manualmente SPARK_HOME\n",
    "os.environ[\"SPARK_HOME\"] = \"/opt/bitnami/spark\"\n",
    "os.environ[\"PYSPARK_PYTHON\"] = \"python3\"\n",
    "\n",
    "# Buscar la versión correcta de Py4J\n",
    "py4j_version = None\n",
    "for file in os.listdir(f\"{os.environ['SPARK_HOME']}/python/lib/\"):\n",
    "    if file.startswith(\"py4j-\") and file.endswith(\".zip\"):\n",
    "        py4j_version = file\n",
    "        break\n",
    "\n",
    "if not py4j_version:\n",
    "    raise Exception(\"No se encontró py4j en Spark. Verifica la instalación.\")\n",
    "\n",
    "# Configurar PYTHONPATH\n",
    "os.environ[\"PYTHONPATH\"] = f\"{os.environ['SPARK_HOME']}/python:{os.environ['SPARK_HOME']}/python/lib/{py4j_version}\"\n",
    "\n",
    "# Inicializar findspark\n",
    "import findspark\n",
    "findspark.init()\n"
   ]
  },
  {
   "cell_type": "code",
   "execution_count": null,
   "id": "2af5d072-5004-4742-ac61-b73a4e240d9c",
   "metadata": {},
   "outputs": [],
   "source": [
    "import findspark\n",
    "findspark.init(\"/opt/bitnami/spark\")  # Ruta de Spark en el contenedor"
   ]
  },
  {
   "cell_type": "code",
   "execution_count": null,
   "id": "7f14eb89-63be-49a5-9156-5ec7ebecee4e",
   "metadata": {},
   "outputs": [],
   "source": [
    "from pyspark.sql import SparkSession\n",
    "\n",
    "spark = SparkSession.builder \\\n",
    "    .appName(\"Hudi_Query\") \\\n",
    "    .config(\"spark.jars.packages\", \"org.apache.hudi:hudi-spark3.3-bundle_2.12:0.13.1,org.apache.hadoop:hadoop-aws:3.3.4\") \\\n",
    "    .config(\"spark.serializer\", \"org.apache.spark.serializer.KryoSerializer\") \\\n",
    "    .getOrCreate()\n"
   ]
  },
  {
   "cell_type": "code",
   "execution_count": null,
   "id": "11bff20e-1ff8-4c86-a57b-0268430ba1b7",
   "metadata": {},
   "outputs": [],
   "source": [
    "spark"
   ]
  },
  {
   "cell_type": "code",
   "execution_count": null,
   "id": "4ea599b6-2552-4590-8a61-7068de09debf",
   "metadata": {},
   "outputs": [],
   "source": [
    "hudi_table_path = \"s3a://hudi-tables/walmart_sales_hudi\""
   ]
  },
  {
   "cell_type": "code",
   "execution_count": null,
   "id": "98f1b601-3e9c-4ebf-9bf0-907fa73ba87c",
   "metadata": {},
   "outputs": [],
   "source": [
    "df = spark.read.format(\"hudi\").load(hudi_table_path)"
   ]
  }
 ],
 "metadata": {
  "kernelspec": {
   "display_name": "Python 3 (ipykernel)",
   "language": "python",
   "name": "python3"
  },
  "language_info": {
   "codemirror_mode": {
    "name": "ipython",
    "version": 3
   },
   "file_extension": ".py",
   "mimetype": "text/x-python",
   "name": "python",
   "nbconvert_exporter": "python",
   "pygments_lexer": "ipython3",
   "version": "3.10.12"
  }
 },
 "nbformat": 4,
 "nbformat_minor": 5
}
